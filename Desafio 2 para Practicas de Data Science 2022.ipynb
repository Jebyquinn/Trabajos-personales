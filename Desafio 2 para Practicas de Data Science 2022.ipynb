{
 "cells": [
  {
   "cell_type": "markdown",
   "id": "6e5df2f4",
   "metadata": {},
   "source": [
    "### En primer lugar se creará el conector a SQL"
   ]
  },
  {
   "cell_type": "code",
   "execution_count": 13,
   "id": "2599f9e4",
   "metadata": {},
   "outputs": [],
   "source": [
    "from sqlalchemy import create_engine\n",
    "import pandas as pd\n",
    "import os  \n",
    "import matplotlib.pyplot as plt\n",
    "engine = create_engine(os.path.join('sqlite:///','data', 'database_challenge.db'))"
   ]
  },
  {
   "cell_type": "code",
   "execution_count": 2,
   "id": "33fed74c",
   "metadata": {},
   "outputs": [
    {
     "data": {
      "text/html": [
       "<div>\n",
       "<style scoped>\n",
       "    .dataframe tbody tr th:only-of-type {\n",
       "        vertical-align: middle;\n",
       "    }\n",
       "\n",
       "    .dataframe tbody tr th {\n",
       "        vertical-align: top;\n",
       "    }\n",
       "\n",
       "    .dataframe thead th {\n",
       "        text-align: right;\n",
       "    }\n",
       "</style>\n",
       "<table border=\"1\" class=\"dataframe\">\n",
       "  <thead>\n",
       "    <tr style=\"text-align: right;\">\n",
       "      <th></th>\n",
       "      <th>name</th>\n",
       "    </tr>\n",
       "  </thead>\n",
       "  <tbody>\n",
       "    <tr>\n",
       "      <th>0</th>\n",
       "      <td>upl_students</td>\n",
       "    </tr>\n",
       "    <tr>\n",
       "      <th>1</th>\n",
       "      <td>upl_courses</td>\n",
       "    </tr>\n",
       "    <tr>\n",
       "      <th>2</th>\n",
       "      <td>upl_campuses</td>\n",
       "    </tr>\n",
       "    <tr>\n",
       "      <th>3</th>\n",
       "      <td>upl_academicperiods</td>\n",
       "    </tr>\n",
       "    <tr>\n",
       "      <th>4</th>\n",
       "      <td>upl_enrollment_statuses</td>\n",
       "    </tr>\n",
       "    <tr>\n",
       "      <th>5</th>\n",
       "      <td>reg_enrollments</td>\n",
       "    </tr>\n",
       "  </tbody>\n",
       "</table>\n",
       "</div>"
      ],
      "text/plain": [
       "                      name\n",
       "0             upl_students\n",
       "1              upl_courses\n",
       "2             upl_campuses\n",
       "3      upl_academicperiods\n",
       "4  upl_enrollment_statuses\n",
       "5          reg_enrollments"
      ]
     },
     "execution_count": 2,
     "metadata": {},
     "output_type": "execute_result"
    }
   ],
   "source": [
    "query =\"\"\"\n",
    "SELECT name \n",
    "FROM sqlite_master \n",
    "WHERE type='table'\n",
    "\"\"\"\n",
    "df = pd.read_sql(query, con=engine)\n",
    "df"
   ]
  },
  {
   "cell_type": "markdown",
   "id": "0571c933",
   "metadata": {},
   "source": [
    "### Definimos la función de consultas"
   ]
  },
  {
   "cell_type": "code",
   "execution_count": 3,
   "id": "5300a373",
   "metadata": {},
   "outputs": [],
   "source": [
    "def consulta(query,conn):\n",
    "    return pd.read_sql_query(query, con=conn)"
   ]
  },
  {
   "cell_type": "code",
   "execution_count": 4,
   "id": "979b6a25",
   "metadata": {},
   "outputs": [],
   "source": [
    "conn = create_engine(os.path.join('sqlite:///','data','database_challenge.db'))"
   ]
  },
  {
   "cell_type": "markdown",
   "id": "0aefe1e2",
   "metadata": {},
   "source": [
    "##### (a) Generamos la siguiente tabla para ver la cantidad de alumnos matriculados por cada periodo académico. "
   ]
  },
  {
   "cell_type": "code",
   "execution_count": 14,
   "id": "ec0486ba",
   "metadata": {},
   "outputs": [
    {
     "data": {
      "text/html": [
       "<div>\n",
       "<style scoped>\n",
       "    .dataframe tbody tr th:only-of-type {\n",
       "        vertical-align: middle;\n",
       "    }\n",
       "\n",
       "    .dataframe tbody tr th {\n",
       "        vertical-align: top;\n",
       "    }\n",
       "\n",
       "    .dataframe thead th {\n",
       "        text-align: right;\n",
       "    }\n",
       "</style>\n",
       "<table border=\"1\" class=\"dataframe\">\n",
       "  <thead>\n",
       "    <tr style=\"text-align: right;\">\n",
       "      <th></th>\n",
       "      <th>cantidad_alumnos</th>\n",
       "      <th>periodo_academico</th>\n",
       "    </tr>\n",
       "  </thead>\n",
       "  <tbody>\n",
       "    <tr>\n",
       "      <th>0</th>\n",
       "      <td>1026</td>\n",
       "      <td>1</td>\n",
       "    </tr>\n",
       "    <tr>\n",
       "      <th>1</th>\n",
       "      <td>1013</td>\n",
       "      <td>3</td>\n",
       "    </tr>\n",
       "    <tr>\n",
       "      <th>2</th>\n",
       "      <td>637</td>\n",
       "      <td>5</td>\n",
       "    </tr>\n",
       "    <tr>\n",
       "      <th>3</th>\n",
       "      <td>461</td>\n",
       "      <td>6</td>\n",
       "    </tr>\n",
       "    <tr>\n",
       "      <th>4</th>\n",
       "      <td>798</td>\n",
       "      <td>8</td>\n",
       "    </tr>\n",
       "    <tr>\n",
       "      <th>5</th>\n",
       "      <td>1323</td>\n",
       "      <td>12</td>\n",
       "    </tr>\n",
       "    <tr>\n",
       "      <th>6</th>\n",
       "      <td>1537</td>\n",
       "      <td>13</td>\n",
       "    </tr>\n",
       "    <tr>\n",
       "      <th>7</th>\n",
       "      <td>1080</td>\n",
       "      <td>15</td>\n",
       "    </tr>\n",
       "    <tr>\n",
       "      <th>8</th>\n",
       "      <td>1727</td>\n",
       "      <td>18</td>\n",
       "    </tr>\n",
       "    <tr>\n",
       "      <th>9</th>\n",
       "      <td>1132</td>\n",
       "      <td>20</td>\n",
       "    </tr>\n",
       "  </tbody>\n",
       "</table>\n",
       "</div>"
      ],
      "text/plain": [
       "   cantidad_alumnos  periodo_academico\n",
       "0              1026                  1\n",
       "1              1013                  3\n",
       "2               637                  5\n",
       "3               461                  6\n",
       "4               798                  8\n",
       "5              1323                 12\n",
       "6              1537                 13\n",
       "7              1080                 15\n",
       "8              1727                 18\n",
       "9              1132                 20"
      ]
     },
     "execution_count": 14,
     "metadata": {},
     "output_type": "execute_result"
    }
   ],
   "source": [
    "query = \"\"\"\n",
    "SELECT \n",
    "COUNT(DISTINCT id_student) AS cantidad_alumnos, id_academicPeriod as periodo_academico\n",
    "FROM reg_enrollments\n",
    "WHERE is_active='1'\n",
    "GROUP BY id_academicPeriod\n",
    "\"\"\"\n",
    "consulta(query,conn)\n",
    "#No consideramos para ninguno de los cálculos los periodos con is_active=0 ya que son registros que no están en uso"
   ]
  },
  {
   "cell_type": "markdown",
   "id": "b66c4fae",
   "metadata": {},
   "source": [
    "##### Se genera una segunda tabla para conocer cuales son los periodos académicos correspondientes"
   ]
  },
  {
   "cell_type": "code",
   "execution_count": 15,
   "id": "8cdf0461",
   "metadata": {},
   "outputs": [
    {
     "data": {
      "text/html": [
       "<div>\n",
       "<style scoped>\n",
       "    .dataframe tbody tr th:only-of-type {\n",
       "        vertical-align: middle;\n",
       "    }\n",
       "\n",
       "    .dataframe tbody tr th {\n",
       "        vertical-align: top;\n",
       "    }\n",
       "\n",
       "    .dataframe thead th {\n",
       "        text-align: right;\n",
       "    }\n",
       "</style>\n",
       "<table border=\"1\" class=\"dataframe\">\n",
       "  <thead>\n",
       "    <tr style=\"text-align: right;\">\n",
       "      <th></th>\n",
       "      <th>codigo</th>\n",
       "      <th>periodo_academico</th>\n",
       "    </tr>\n",
       "  </thead>\n",
       "  <tbody>\n",
       "    <tr>\n",
       "      <th>0</th>\n",
       "      <td>1</td>\n",
       "      <td>20151S</td>\n",
       "    </tr>\n",
       "    <tr>\n",
       "      <th>1</th>\n",
       "      <td>3</td>\n",
       "      <td>20162S</td>\n",
       "    </tr>\n",
       "    <tr>\n",
       "      <th>2</th>\n",
       "      <td>5</td>\n",
       "      <td>20141S</td>\n",
       "    </tr>\n",
       "    <tr>\n",
       "      <th>3</th>\n",
       "      <td>6</td>\n",
       "      <td>20142S</td>\n",
       "    </tr>\n",
       "    <tr>\n",
       "      <th>4</th>\n",
       "      <td>8</td>\n",
       "      <td>20152S</td>\n",
       "    </tr>\n",
       "    <tr>\n",
       "      <th>5</th>\n",
       "      <td>12</td>\n",
       "      <td>20161S</td>\n",
       "    </tr>\n",
       "    <tr>\n",
       "      <th>6</th>\n",
       "      <td>13</td>\n",
       "      <td>20171S</td>\n",
       "    </tr>\n",
       "    <tr>\n",
       "      <th>7</th>\n",
       "      <td>15</td>\n",
       "      <td>20172S</td>\n",
       "    </tr>\n",
       "    <tr>\n",
       "      <th>8</th>\n",
       "      <td>18</td>\n",
       "      <td>20181S</td>\n",
       "    </tr>\n",
       "    <tr>\n",
       "      <th>9</th>\n",
       "      <td>20</td>\n",
       "      <td>20182S</td>\n",
       "    </tr>\n",
       "  </tbody>\n",
       "</table>\n",
       "</div>"
      ],
      "text/plain": [
       "   codigo periodo_academico\n",
       "0       1            20151S\n",
       "1       3            20162S\n",
       "2       5            20141S\n",
       "3       6            20142S\n",
       "4       8            20152S\n",
       "5      12            20161S\n",
       "6      13            20171S\n",
       "7      15            20172S\n",
       "8      18            20181S\n",
       "9      20            20182S"
      ]
     },
     "execution_count": 15,
     "metadata": {},
     "output_type": "execute_result"
    }
   ],
   "source": [
    "query = \"\"\"\n",
    "SELECT id_code AS codigo,ds_integrationId AS periodo_academico FROM upl_academicperiods\n",
    "WHERE is_active='1'\n",
    "\"\"\"\n",
    "consulta(query,conn)"
   ]
  },
  {
   "cell_type": "markdown",
   "id": "a687964b",
   "metadata": {},
   "source": [
    "##### Con ambas tablas notamos que por cada año tenemos registros activos solo en periodos semestrales, además, la cantidad de estudiantes matriculados por cada semestre de cada año está dado en el siguiente gráfico:"
   ]
  },
  {
   "cell_type": "code",
   "execution_count": 19,
   "id": "be85eccd",
   "metadata": {},
   "outputs": [
    {
     "data": {
      "image/png": "[encoded data removed]",
      "text/plain": [
       "<Figure size 720x360 with 1 Axes>"
      ]
     },
     "metadata": {
      "needs_background": "light"
     },
     "output_type": "display_data"
    }
   ],
   "source": [
    "x={'20141S':637,'20142S':461,'20151S':1026,'20152S':798,'20161S':1323,'20162S':1013,'20171S':1537,'20172S':1080,'20181S':1727,'20182S':1132}\n",
    "\n",
    "plt.figure(figsize=(10, 5))\n",
    "\n",
    "plt.plot(x.keys(),x.values(),label='linea',color='blueviolet')\n",
    "\n",
    "plt.title(\"Variación de estudiantes matriculados a través del tiempo\") \n",
    "plt.xlabel('Periodo académico') \n",
    "plt.ylabel('Cantidad de alumnos matriculados')\n",
    "plt.show()"
   ]
  },
  {
   "cell_type": "markdown",
   "id": "e8a3e67c",
   "metadata": {},
   "source": [
    "##### por lo que podemos ver que en cada año, el primer semestre hay más estudiantes matriculados que el segundo semestre, y que cada año se van matriculando más estudiantes."
   ]
  },
  {
   "cell_type": "markdown",
   "id": "45978356",
   "metadata": {},
   "source": [
    "##### (b) generamos una tabla que nos muestre cuantos ramos tomó cada alumno en cada periodo de tiempo"
   ]
  },
  {
   "cell_type": "code",
   "execution_count": 7,
   "id": "6b12d21d",
   "metadata": {},
   "outputs": [
    {
     "data": {
      "text/html": [
       "<div>\n",
       "<style scoped>\n",
       "    .dataframe tbody tr th:only-of-type {\n",
       "        vertical-align: middle;\n",
       "    }\n",
       "\n",
       "    .dataframe tbody tr th {\n",
       "        vertical-align: top;\n",
       "    }\n",
       "\n",
       "    .dataframe thead th {\n",
       "        text-align: right;\n",
       "    }\n",
       "</style>\n",
       "<table border=\"1\" class=\"dataframe\">\n",
       "  <thead>\n",
       "    <tr style=\"text-align: right;\">\n",
       "      <th></th>\n",
       "      <th>periodo_academico</th>\n",
       "      <th>cantidad_cursos</th>\n",
       "    </tr>\n",
       "  </thead>\n",
       "  <tbody>\n",
       "    <tr>\n",
       "      <th>0</th>\n",
       "      <td>1</td>\n",
       "      <td>4</td>\n",
       "    </tr>\n",
       "    <tr>\n",
       "      <th>1</th>\n",
       "      <td>1</td>\n",
       "      <td>4</td>\n",
       "    </tr>\n",
       "    <tr>\n",
       "      <th>2</th>\n",
       "      <td>1</td>\n",
       "      <td>4</td>\n",
       "    </tr>\n",
       "    <tr>\n",
       "      <th>3</th>\n",
       "      <td>1</td>\n",
       "      <td>4</td>\n",
       "    </tr>\n",
       "    <tr>\n",
       "      <th>4</th>\n",
       "      <td>1</td>\n",
       "      <td>4</td>\n",
       "    </tr>\n",
       "    <tr>\n",
       "      <th>...</th>\n",
       "      <td>...</td>\n",
       "      <td>...</td>\n",
       "    </tr>\n",
       "    <tr>\n",
       "      <th>10729</th>\n",
       "      <td>20</td>\n",
       "      <td>4</td>\n",
       "    </tr>\n",
       "    <tr>\n",
       "      <th>10730</th>\n",
       "      <td>20</td>\n",
       "      <td>5</td>\n",
       "    </tr>\n",
       "    <tr>\n",
       "      <th>10731</th>\n",
       "      <td>20</td>\n",
       "      <td>5</td>\n",
       "    </tr>\n",
       "    <tr>\n",
       "      <th>10732</th>\n",
       "      <td>20</td>\n",
       "      <td>4</td>\n",
       "    </tr>\n",
       "    <tr>\n",
       "      <th>10733</th>\n",
       "      <td>20</td>\n",
       "      <td>5</td>\n",
       "    </tr>\n",
       "  </tbody>\n",
       "</table>\n",
       "<p>10734 rows × 2 columns</p>\n",
       "</div>"
      ],
      "text/plain": [
       "       periodo_academico  cantidad_cursos\n",
       "0                      1                4\n",
       "1                      1                4\n",
       "2                      1                4\n",
       "3                      1                4\n",
       "4                      1                4\n",
       "...                  ...              ...\n",
       "10729                 20                4\n",
       "10730                 20                5\n",
       "10731                 20                5\n",
       "10732                 20                4\n",
       "10733                 20                5\n",
       "\n",
       "[10734 rows x 2 columns]"
      ]
     },
     "execution_count": 7,
     "metadata": {},
     "output_type": "execute_result"
    }
   ],
   "source": [
    "query2=\"\"\"\n",
    "SELECT \n",
    "id_academicPeriod AS periodo_academico, COUNT(id_course) AS cantidad_cursos FROM reg_enrollments\n",
    "WHERE is_active='1'\n",
    "GROUP BY id_academicPeriod , id_student\n",
    "\"\"\"\n",
    "consulta(query2,conn)"
   ]
  },
  {
   "cell_type": "markdown",
   "id": "bb580a46",
   "metadata": {},
   "source": [
    "##### Luego, por cada periodo de tiempo obtenemos el promedio de ramos inscritos"
   ]
  },
  {
   "cell_type": "code",
   "execution_count": 8,
   "id": "43620be3",
   "metadata": {},
   "outputs": [
    {
     "name": "stdout",
     "output_type": "stream",
     "text": [
      "En el periodo académico 1 el promedio de ramos inscritos es: 3.9717348927875245\n",
      "En el periodo académico 3 el promedio de ramos inscritos es: 4.815399802566634\n",
      "En el periodo académico 5 el promedio de ramos inscritos es: 3.0\n",
      "En el periodo académico 6 el promedio de ramos inscritos es: 3.0\n",
      "En el periodo académico 8 el promedio de ramos inscritos es: 4.0\n",
      "En el periodo académico 12 el promedio de ramos inscritos es: 4.799697656840514\n",
      "En el periodo académico 13 el promedio de ramos inscritos es: 4.69811320754717\n",
      "En el periodo académico 15 el promedio de ramos inscritos es: 4.734259259259259\n",
      "En el periodo académico 18 el promedio de ramos inscritos es: 4.699478865083961\n",
      "En el periodo académico 20 el promedio de ramos inscritos es: 4.7871024734982335\n"
     ]
    }
   ],
   "source": [
    "per=consulta(query2,conn)['periodo_academico'].unique()\n",
    "prom=0\n",
    "for p in per:\n",
    "    df_aux = consulta(query2,conn).loc[lambda x: x['periodo_academico'] == p].cantidad_cursos.mean()\n",
    "    print('En el periodo académico',p, 'el promedio de ramos inscritos es:', df_aux)"
   ]
  },
  {
   "cell_type": "markdown",
   "id": "4d7e6619",
   "metadata": {},
   "source": [
    "##### Utilizando la misma tabla de los periodos de tiempo, tenemos que el promedio de ramos por cada semestre (aproximados a la unidad) serían:"
   ]
  },
  {
   "cell_type": "code",
   "execution_count": 20,
   "id": "09d3f32b",
   "metadata": {},
   "outputs": [
    {
     "data": {
      "image/png": "[encoded data removed]",
      "text/plain": [
       "<Figure size 720x360 with 1 Axes>"
      ]
     },
     "metadata": {
      "needs_background": "light"
     },
     "output_type": "display_data"
    }
   ],
   "source": [
    "x={'20141S':3,'20142S':3,'20151S':4,'20152S':4,'20161S':5,'20162S':5,'20171S':5,'20172S':5,'20181S':5,'20182S':5}\n",
    "\n",
    "plt.figure(figsize=(10, 5))\n",
    "\n",
    "plt.plot(x.keys(),x.values(),label='linea',color='blueviolet')\n",
    "\n",
    "plt.title(\"Variación de ramos inscritos a través del tiempo\") \n",
    "plt.xlabel('Periodo académico') \n",
    "plt.ylabel('Cantidad de ramos inscritos en promedio')\n",
    "plt.show()"
   ]
  },
  {
   "cell_type": "markdown",
   "id": "ce0f7d43",
   "metadata": {},
   "source": [
    "##### Y vemos que la cantidad de ramos promedio inscritos por los alumnos fue aumentando en el periodo de 2014-2016 para luego mantenerse en 5 ramos inscritos en promedio."
   ]
  },
  {
   "cell_type": "markdown",
   "id": "a002c2c3",
   "metadata": {},
   "source": [
    "##### (c) Generamos la tabla para contar cuantos reprobados hay por cada curso y la ordenamos de mayor a menor"
   ]
  },
  {
   "cell_type": "code",
   "execution_count": 9,
   "id": "2028dc9d",
   "metadata": {},
   "outputs": [
    {
     "data": {
      "text/html": [
       "<div>\n",
       "<style scoped>\n",
       "    .dataframe tbody tr th:only-of-type {\n",
       "        vertical-align: middle;\n",
       "    }\n",
       "\n",
       "    .dataframe tbody tr th {\n",
       "        vertical-align: top;\n",
       "    }\n",
       "\n",
       "    .dataframe thead th {\n",
       "        text-align: right;\n",
       "    }\n",
       "</style>\n",
       "<table border=\"1\" class=\"dataframe\">\n",
       "  <thead>\n",
       "    <tr style=\"text-align: right;\">\n",
       "      <th></th>\n",
       "      <th>curso</th>\n",
       "      <th>cantidad_reprobados</th>\n",
       "    </tr>\n",
       "  </thead>\n",
       "  <tbody>\n",
       "    <tr>\n",
       "      <th>0</th>\n",
       "      <td>3421</td>\n",
       "      <td>67</td>\n",
       "    </tr>\n",
       "    <tr>\n",
       "      <th>1</th>\n",
       "      <td>3416</td>\n",
       "      <td>53</td>\n",
       "    </tr>\n",
       "    <tr>\n",
       "      <th>2</th>\n",
       "      <td>3437</td>\n",
       "      <td>20</td>\n",
       "    </tr>\n",
       "    <tr>\n",
       "      <th>3</th>\n",
       "      <td>2357</td>\n",
       "      <td>13</td>\n",
       "    </tr>\n",
       "    <tr>\n",
       "      <th>4</th>\n",
       "      <td>1250</td>\n",
       "      <td>12</td>\n",
       "    </tr>\n",
       "    <tr>\n",
       "      <th>...</th>\n",
       "      <td>...</td>\n",
       "      <td>...</td>\n",
       "    </tr>\n",
       "    <tr>\n",
       "      <th>141</th>\n",
       "      <td>1018</td>\n",
       "      <td>1</td>\n",
       "    </tr>\n",
       "    <tr>\n",
       "      <th>142</th>\n",
       "      <td>1001</td>\n",
       "      <td>1</td>\n",
       "    </tr>\n",
       "    <tr>\n",
       "      <th>143</th>\n",
       "      <td>997</td>\n",
       "      <td>1</td>\n",
       "    </tr>\n",
       "    <tr>\n",
       "      <th>144</th>\n",
       "      <td>984</td>\n",
       "      <td>1</td>\n",
       "    </tr>\n",
       "    <tr>\n",
       "      <th>145</th>\n",
       "      <td>983</td>\n",
       "      <td>1</td>\n",
       "    </tr>\n",
       "  </tbody>\n",
       "</table>\n",
       "<p>146 rows × 2 columns</p>\n",
       "</div>"
      ],
      "text/plain": [
       "     curso  cantidad_reprobados\n",
       "0     3421                   67\n",
       "1     3416                   53\n",
       "2     3437                   20\n",
       "3     2357                   13\n",
       "4     1250                   12\n",
       "..     ...                  ...\n",
       "141   1018                    1\n",
       "142   1001                    1\n",
       "143    997                    1\n",
       "144    984                    1\n",
       "145    983                    1\n",
       "\n",
       "[146 rows x 2 columns]"
      ]
     },
     "execution_count": 9,
     "metadata": {},
     "output_type": "execute_result"
    }
   ],
   "source": [
    "query3=\"\"\"\n",
    "SELECT id_course AS curso, COUNT(id_status) AS cantidad_reprobados FROM reg_enrollments\n",
    "WHERE (id_academicPeriod='1') AND (id_status=2) AND (is_active='1')\n",
    "GROUP BY id_course\n",
    "ORDER BY COUNT(id_status) DESC\n",
    "\n",
    "\"\"\"\n",
    "consulta(query3,conn)"
   ]
  },
  {
   "cell_type": "markdown",
   "id": "d824aedb",
   "metadata": {},
   "source": [
    "##### Así obetenemos los 5 ramos con mayor tasa de reprobación, luego generamos una segunda tabla para revisar cuales son los cursos mencionados"
   ]
  },
  {
   "cell_type": "code",
   "execution_count": 10,
   "id": "ee6c7d5a",
   "metadata": {},
   "outputs": [
    {
     "data": {
      "text/html": [
       "<div>\n",
       "<style scoped>\n",
       "    .dataframe tbody tr th:only-of-type {\n",
       "        vertical-align: middle;\n",
       "    }\n",
       "\n",
       "    .dataframe tbody tr th {\n",
       "        vertical-align: top;\n",
       "    }\n",
       "\n",
       "    .dataframe thead th {\n",
       "        text-align: right;\n",
       "    }\n",
       "</style>\n",
       "<table border=\"1\" class=\"dataframe\">\n",
       "  <thead>\n",
       "    <tr style=\"text-align: right;\">\n",
       "      <th></th>\n",
       "      <th>id_code</th>\n",
       "      <th>ds_name</th>\n",
       "    </tr>\n",
       "  </thead>\n",
       "  <tbody>\n",
       "    <tr>\n",
       "      <th>0</th>\n",
       "      <td>1250</td>\n",
       "      <td>Inglés 1</td>\n",
       "    </tr>\n",
       "    <tr>\n",
       "      <th>1</th>\n",
       "      <td>2357</td>\n",
       "      <td>Inglés 1</td>\n",
       "    </tr>\n",
       "    <tr>\n",
       "      <th>2</th>\n",
       "      <td>3416</td>\n",
       "      <td>Introducción A La Física Universitaria</td>\n",
       "    </tr>\n",
       "    <tr>\n",
       "      <th>3</th>\n",
       "      <td>3421</td>\n",
       "      <td>Introducción A La Matemática Universitaria</td>\n",
       "    </tr>\n",
       "    <tr>\n",
       "      <th>4</th>\n",
       "      <td>3437</td>\n",
       "      <td>Química General Básica</td>\n",
       "    </tr>\n",
       "  </tbody>\n",
       "</table>\n",
       "</div>"
      ],
      "text/plain": [
       "   id_code                                     ds_name\n",
       "0     1250                                    Inglés 1\n",
       "1     2357                                    Inglés 1\n",
       "2     3416      Introducción A La Física Universitaria\n",
       "3     3421  Introducción A La Matemática Universitaria\n",
       "4     3437                      Química General Básica"
      ]
     },
     "execution_count": 10,
     "metadata": {},
     "output_type": "execute_result"
    }
   ],
   "source": [
    "query4=\"\"\"\n",
    "SELECT id_code, ds_name FROM upl_courses\n",
    "WHERE (id_code='3421') OR (id_code='3416') OR (id_code='3437') OR (id_code='2357') OR (id_code='1250')\n",
    "\"\"\"\n",
    "consulta(query4,conn)"
   ]
  },
  {
   "cell_type": "markdown",
   "id": "9433da34",
   "metadata": {},
   "source": [
    "##### Por lo que los 5 ramos con mayor tasa de reprobación en el periodo 2015 1S son:\n",
    "* Introducción A La Matemática Universitaria (3421): 67 reprobados\n",
    "* Introducción A La Física Universitaria (3416): 53 reprobados\n",
    "* Química General Básica (3437): 20 reprobados\n",
    "* Inglés 1 (2357): 13 reprobados\n",
    "* Inglés 1 (1250): 12 reprobados"
   ]
  },
  {
   "cell_type": "code",
   "execution_count": 34,
   "id": "4f2f973a",
   "metadata": {},
   "outputs": [
    {
     "data": {
      "image/png": "[encoded data removed]",
      "text/plain": [
       "<Figure size 720x360 with 1 Axes>"
      ]
     },
     "metadata": {
      "needs_background": "light"
     },
     "output_type": "display_data"
    }
   ],
   "source": [
    "x1={'3421': 67}\n",
    "x2={'3416': 53}\n",
    "x3={'3437': 20}\n",
    "x4={'2357': 13}\n",
    "x5={'1250': 12}\n",
    "\n",
    "plt.figure(figsize=(10, 5))\n",
    "\n",
    "plt.bar(x1.keys(),x1.values(),0.35,color='blueviolet')\n",
    "plt.bar(x2.keys(),x2.values(),0.35,color='turquoise')\n",
    "plt.bar(x3.keys(),x3.values(),0.35,color='lightpink')\n",
    "plt.bar(x4.keys(),x4.values(),0.35,color='lightgreen')\n",
    "plt.bar(x5.keys(),x5.values(),0.35,color='orchid')\n",
    "\n",
    "plt.legend(['Introducción A La Matemática Universitaria','Introducción A La Física Universitaria','Química General Básica','Inglés 1','Inglés 1'])\n",
    "plt.title(\"Ramos con mayor tasa de reprobación\") \n",
    "plt.xlabel('Código del ramo') \n",
    "plt.ylabel('Cantidad de alumnos reprobados')\n",
    "plt.show()"
   ]
  },
  {
   "cell_type": "code",
   "execution_count": null,
   "id": "36dbadbb",
   "metadata": {},
   "outputs": [],
   "source": []
  }
 ],
 "metadata": {
  "kernelspec": {
   "display_name": "Python 3",
   "language": "python",
   "name": "python3"
  },
  "language_info": {
   "codemirror_mode": {
    "name": "ipython",
    "version": 3
   },
   "file_extension": ".py",
   "mimetype": "text/x-python",
   "name": "python",
   "nbconvert_exporter": "python",
   "pygments_lexer": "ipython3",
   "version": "3.8.8"
  }
 },
 "nbformat": 4,
 "nbformat_minor": 5
}
